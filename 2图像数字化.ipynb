{
 "cells": [
  {
   "cell_type": "markdown",
   "metadata": {},
   "source": [
    "# 认识Numpy中的ndarray\n",
    "## 构造ndarray对象"
   ]
  },
  {
   "cell_type": "code",
   "execution_count": 4,
   "metadata": {
    "ExecuteTime": {
     "end_time": "2019-12-26T16:52:14.734863Z",
     "start_time": "2019-12-26T16:52:14.727878Z"
    }
   },
   "outputs": [],
   "source": [
    "# 1. 构造二维的ndarray\n",
    "import numpy as np"
   ]
  },
  {
   "cell_type": "code",
   "execution_count": null,
   "metadata": {},
   "outputs": [],
   "source": [
    "# 构造 2行4列全是0 的uchar类型的二维数组\n",
    "z = np.zeros((2,4), np.uint8)  # 构造2行4列的矩阵\n",
    "type(z)"
   ]
  },
  {
   "cell_type": "code",
   "execution_count": 3,
   "metadata": {
    "ExecuteTime": {
     "end_time": "2019-12-26T16:50:18.578152Z",
     "start_time": "2019-12-26T16:50:18.571168Z"
    }
   },
   "outputs": [
    {
     "data": {
      "text/plain": [
       "array([[0, 0, 0, 0],\n",
       "       [0, 0, 0, 0]], dtype=uint8)"
      ]
     },
     "execution_count": 3,
     "metadata": {},
     "output_type": "execute_result"
    }
   ],
   "source": [
    "z"
   ]
  },
  {
   "cell_type": "code",
   "execution_count": 5,
   "metadata": {
    "ExecuteTime": {
     "end_time": "2019-12-26T16:54:31.369650Z",
     "start_time": "2019-12-26T16:54:31.360673Z"
    }
   },
   "outputs": [
    {
     "data": {
      "text/plain": [
       "array([[1, 1, 1, 1],\n",
       "       [1, 1, 1, 1]])"
      ]
     },
     "execution_count": 5,
     "metadata": {},
     "output_type": "execute_result"
    }
   ],
   "source": [
    "# 构造一个2行4列全是1的整型矩阵\n",
    "o = np.ones((2, 4), np.int32)\n",
    "o"
   ]
  },
  {
   "cell_type": "code",
   "execution_count": 6,
   "metadata": {
    "ExecuteTime": {
     "end_time": "2019-12-26T16:55:38.684814Z",
     "start_time": "2019-12-26T16:55:38.669015Z"
    }
   },
   "outputs": [
    {
     "data": {
      "text/plain": [
       "array([[ 4., 12.,  3.,  1.],\n",
       "       [10., 12., 14., 29.]], dtype=float32)"
      ]
     },
     "execution_count": 6,
     "metadata": {},
     "output_type": "execute_result"
    }
   ],
   "source": [
    "# 初始化一个浮点型矩阵\n",
    "m = np.array([[4, 12, 3, 1], [10, 12, 14, 29]], np.float32)\n",
    "m"
   ]
  },
  {
   "cell_type": "code",
   "execution_count": 8,
   "metadata": {
    "ExecuteTime": {
     "end_time": "2019-12-26T16:59:44.808327Z",
     "start_time": "2019-12-26T16:59:44.798658Z"
    }
   },
   "outputs": [
    {
     "data": {
      "text/plain": [
       "array([[[ 1.,  2.,  3.,  4.],\n",
       "        [ 5.,  6.,  7.,  8.]],\n",
       "\n",
       "       [[10., 11., 12., 13.],\n",
       "        [14., 15., 16., 17.]]], dtype=float32)"
      ]
     },
     "execution_count": 8,
     "metadata": {},
     "output_type": "execute_result"
    }
   ],
   "source": [
    "# 2.构造三维的ndarray\n",
    "# 初始化一个2*2*4的32位浮点型数组\n",
    "m = np.array([\n",
    "                [[1, 2, 3, 4], [5, 6, 7, 8]],\n",
    "                [[10, 11, 12, 13], [14, 15, 16, 17]]\n",
    "            ],np.float32)\n",
    "m"
   ]
  },
  {
   "cell_type": "code",
   "execution_count": 9,
   "metadata": {
    "ExecuteTime": {
     "end_time": "2019-12-26T17:01:56.661375Z",
     "start_time": "2019-12-26T17:01:56.649379Z"
    }
   },
   "outputs": [
    {
     "data": {
      "text/plain": [
       "dtype('float32')"
      ]
     },
     "execution_count": 9,
     "metadata": {},
     "output_type": "execute_result"
    }
   ],
   "source": [
    "# 3. ndarray中的成员变量\n",
    "m = np.array([[4, 12, 3, 1], [10, 12, 14, 29]], np.float32)\n",
    "m.dtype  # 数据类型"
   ]
  },
  {
   "cell_type": "code",
   "execution_count": 11,
   "metadata": {
    "ExecuteTime": {
     "end_time": "2019-12-26T17:02:11.784319Z",
     "start_time": "2019-12-26T17:02:11.776339Z"
    }
   },
   "outputs": [
    {
     "data": {
      "text/plain": [
       "(2, 4)"
      ]
     },
     "execution_count": 11,
     "metadata": {},
     "output_type": "execute_result"
    }
   ],
   "source": [
    "m.shape  # 数据的尺寸"
   ]
  },
  {
   "cell_type": "markdown",
   "metadata": {},
   "source": [
    "## 访问ndarray中的值"
   ]
  },
  {
   "cell_type": "code",
   "execution_count": 15,
   "metadata": {
    "ExecuteTime": {
     "end_time": "2019-12-26T17:07:51.319863Z",
     "start_time": "2019-12-26T17:07:51.310912Z"
    }
   },
   "outputs": [
    {
     "data": {
      "text/plain": [
       "29.0"
      ]
     },
     "execution_count": 15,
     "metadata": {},
     "output_type": "execute_result"
    }
   ],
   "source": [
    "# 1. 访问二维ndarray中的值\n",
    "m = np.array([[4, 12, 3, 1], [10, 12, 14, 29], [67, 23, 534, 2]], np.float32)\n",
    "# 第1行第3列的值\n",
    "m[1,3]"
   ]
  },
  {
   "cell_type": "code",
   "execution_count": 16,
   "metadata": {
    "ExecuteTime": {
     "end_time": "2019-12-26T17:08:21.474614Z",
     "start_time": "2019-12-26T17:08:21.466599Z"
    }
   },
   "outputs": [
    {
     "data": {
      "text/plain": [
       "array([[ 67.,  23., 534.,   2.]], dtype=float32)"
      ]
     },
     "execution_count": 16,
     "metadata": {},
     "output_type": "execute_result"
    }
   ],
   "source": [
    "# m中第2行的值\n",
    "m[2:]"
   ]
  },
  {
   "cell_type": "code",
   "execution_count": 17,
   "metadata": {
    "ExecuteTime": {
     "end_time": "2019-12-26T17:08:51.066462Z",
     "start_time": "2019-12-26T17:08:51.057839Z"
    }
   },
   "outputs": [
    {
     "data": {
      "text/plain": [
       "array([ 1., 29.,  2.], dtype=float32)"
      ]
     },
     "execution_count": 17,
     "metadata": {},
     "output_type": "execute_result"
    }
   ],
   "source": [
    "# m中第3列的值\n",
    "m[:, 3]"
   ]
  },
  {
   "cell_type": "code",
   "execution_count": 19,
   "metadata": {
    "ExecuteTime": {
     "end_time": "2019-12-26T17:10:38.544696Z",
     "start_time": "2019-12-26T17:10:38.531730Z"
    }
   },
   "outputs": [
    {
     "data": {
      "text/plain": [
       "array([[12.,  3.],\n",
       "       [12., 14.]], dtype=float32)"
      ]
     },
     "execution_count": 19,
     "metadata": {},
     "output_type": "execute_result"
    }
   ],
   "source": [
    "# 第0行第1列至右下角第2行弟3列矩形区域的所有值\n",
    "m[0:2, 1:3]"
   ]
  },
  {
   "cell_type": "code",
   "execution_count": 21,
   "metadata": {
    "ExecuteTime": {
     "end_time": "2019-12-26T17:14:57.913165Z",
     "start_time": "2019-12-26T17:14:57.899241Z"
    }
   },
   "outputs": [
    {
     "data": {
      "text/plain": [
       "array([[[ 1.,  2.,  3.,  4.],\n",
       "        [ 5.,  6.,  7.,  8.]],\n",
       "\n",
       "       [[10., 11., 12., 13.],\n",
       "        [15., 16., 17., 18.]],\n",
       "\n",
       "       [[11., 21., 43., 45.],\n",
       "        [46., 22., 32., 18.]]], dtype=float32)"
      ]
     },
     "execution_count": 21,
     "metadata": {},
     "output_type": "execute_result"
    }
   ],
   "source": [
    "# 2. 访问三维ndarray中的值\n",
    "m = np.array([\n",
    "    [[1, 2, 3, 4], [5, 6, 7, 8]],\n",
    "    [[10, 11, 12, 13], [15, 16, 17, 18]],\n",
    "    [[11, 21, 43, 45], [46, 22, 32, 18]]\n",
    "], np.float32)\n",
    "m"
   ]
  },
  {
   "cell_type": "code",
   "execution_count": 22,
   "metadata": {
    "ExecuteTime": {
     "end_time": "2019-12-26T17:16:35.161173Z",
     "start_time": "2019-12-26T17:16:35.156186Z"
    }
   },
   "outputs": [
    {
     "data": {
      "text/plain": [
       "array([[ 1.,  5.],\n",
       "       [10., 15.],\n",
       "       [11., 46.]], dtype=float32)"
      ]
     },
     "execution_count": 22,
     "metadata": {},
     "output_type": "execute_result"
    }
   ],
   "source": [
    "# m中二维数据的第0列\n",
    "m[:, :, 0]"
   ]
  },
  {
   "cell_type": "code",
   "execution_count": 23,
   "metadata": {
    "ExecuteTime": {
     "end_time": "2019-12-26T17:17:19.815710Z",
     "start_time": "2019-12-26T17:17:19.807733Z"
    }
   },
   "outputs": [
    {
     "data": {
      "text/plain": [
       "array([[1., 2., 3., 4.],\n",
       "       [5., 6., 7., 8.]], dtype=float32)"
      ]
     },
     "execution_count": 23,
     "metadata": {},
     "output_type": "execute_result"
    }
   ],
   "source": [
    "# m中第0个二维数组\n",
    "m[0, :, :]"
   ]
  },
  {
   "cell_type": "markdown",
   "metadata": {},
   "source": [
    "# 认识OpenCV中的Mat类"
   ]
  },
  {
   "cell_type": "markdown",
   "metadata": {},
   "source": [
    "## 初识Mat"
   ]
  },
  {
   "cell_type": "markdown",
   "metadata": {},
   "source": [
    "构造Mat对象相当于构造了一个矩阵(数组)，需要四个基本要素：行数(高)、列数(宽)、通道数及其数据类型。即：\n",
    "\n",
    "Mat(int rows, int cols, int type) 或 Mat(Size(int cols, int rows), int type)"
   ]
  },
  {
   "cell_type": "markdown",
   "metadata": {},
   "source": [
    "## 构造单通道Mat对象"
   ]
  },
  {
   "cell_type": "code",
   "execution_count": 11,
   "metadata": {
    "ExecuteTime": {
     "end_time": "2020-01-19T17:06:07.164930Z",
     "start_time": "2020-01-19T17:06:07.159948Z"
    }
   },
   "outputs": [
    {
     "data": {
      "text/plain": [
       "array([[0.4008942 , 0.24051842, 0.97282162],\n",
       "       [0.6513049 , 0.03882022, 0.35182797]])"
      ]
     },
     "execution_count": 11,
     "metadata": {},
     "output_type": "execute_result"
    }
   ],
   "source": [
    "# 2行3列float类型的单通道矩阵\n",
    "m = np.random.random((2,3))\n",
    "m"
   ]
  },
  {
   "cell_type": "code",
   "execution_count": 13,
   "metadata": {
    "ExecuteTime": {
     "end_time": "2020-01-19T17:07:25.170053Z",
     "start_time": "2020-01-19T17:07:25.159051Z"
    }
   },
   "outputs": [
    {
     "data": {
      "text/plain": [
       "array([[0., 0., 0.],\n",
       "       [0., 0., 0.]], dtype=float32)"
      ]
     },
     "execution_count": 13,
     "metadata": {},
     "output_type": "execute_result"
    }
   ],
   "source": [
    "# 构造一个2行3列全是0的float类型的单通道矩阵\n",
    "np.zeros((2,3),dtype=np.float32)"
   ]
  },
  {
   "cell_type": "markdown",
   "metadata": {},
   "source": [
    "## 获得单通道Mat的基本信息"
   ]
  },
  {
   "cell_type": "code",
   "execution_count": 16,
   "metadata": {
    "ExecuteTime": {
     "end_time": "2020-01-19T17:10:30.848228Z",
     "start_time": "2020-01-19T17:10:30.842244Z"
    }
   },
   "outputs": [
    {
     "data": {
      "text/plain": [
       "array([[11., 12.],\n",
       "       [33., 43.],\n",
       "       [51., 16.]])"
      ]
     },
     "execution_count": 16,
     "metadata": {},
     "output_type": "execute_result"
    }
   ],
   "source": [
    "# 3行2列的二维矩阵\n",
    "m = np.array([[11, 12], [33, 43], [51, 16]],dtype=np.float)\n",
    "m"
   ]
  },
  {
   "cell_type": "code",
   "execution_count": 20,
   "metadata": {
    "ExecuteTime": {
     "end_time": "2020-01-19T17:12:00.857831Z",
     "start_time": "2020-01-19T17:12:00.852846Z"
    }
   },
   "outputs": [
    {
     "data": {
      "text/plain": [
       "(3, 2)"
      ]
     },
     "execution_count": 20,
     "metadata": {},
     "output_type": "execute_result"
    }
   ],
   "source": [
    "# 获取矩阵的尺寸3行2列\n",
    "m.shape"
   ]
  },
  {
   "cell_type": "markdown",
   "metadata": {},
   "source": [
    "# ndarray的计算"
   ]
  },
  {
   "cell_type": "code",
   "execution_count": 39,
   "metadata": {
    "ExecuteTime": {
     "end_time": "2020-01-19T17:39:05.818887Z",
     "start_time": "2020-01-19T17:39:05.813874Z"
    }
   },
   "outputs": [
    {
     "data": {
      "text/plain": [
       "array([[148,  17, 150],\n",
       "       [200,   4,  40]], dtype=uint8)"
      ]
     },
     "execution_count": 39,
     "metadata": {},
     "output_type": "execute_result"
    }
   ],
   "source": [
    "# ndarray的加法\n",
    "import numpy as np\n",
    "src1 = np.array([[23, 123, 90], [100, 250, 0]], np.uint8)\n",
    "src2 = np.array([[125, 150, 60], [100, 10, 40]], np.uint8)\n",
    "dst = src1 + src2\n",
    "dst"
   ]
  },
  {
   "cell_type": "code",
   "execution_count": 27,
   "metadata": {
    "ExecuteTime": {
     "end_time": "2020-01-19T17:32:36.216754Z",
     "start_time": "2020-01-19T17:32:36.211796Z"
    }
   },
   "outputs": [
    {
     "data": {
      "text/plain": [
       "array([[154, 229,  30],\n",
       "       [  0, 240, 216]], dtype=uint8)"
      ]
     },
     "execution_count": 27,
     "metadata": {},
     "output_type": "execute_result"
    }
   ],
   "source": [
    "# 减法运算\n",
    "dst = src1 - src2\n",
    "dst"
   ]
  },
  {
   "cell_type": "code",
   "execution_count": 31,
   "metadata": {
    "ExecuteTime": {
     "end_time": "2020-01-19T17:36:12.987197Z",
     "start_time": "2020-01-19T17:36:12.955316Z"
    }
   },
   "outputs": [
    {
     "data": {
      "text/plain": [
       "array([[ 2875., 18450.,  5400.],\n",
       "       [10000.,  2500.,     0.]], dtype=float32)"
      ]
     },
     "execution_count": 31,
     "metadata": {},
     "output_type": "execute_result"
    }
   ],
   "source": [
    "# 点乘运算\n",
    "dst = src1 * src2.astype(np.float32)\n",
    "dst"
   ]
  },
  {
   "cell_type": "code",
   "execution_count": 33,
   "metadata": {
    "ExecuteTime": {
     "end_time": "2020-01-19T17:37:11.908446Z",
     "start_time": "2020-01-19T17:37:11.903461Z"
    }
   },
   "outputs": [
    {
     "data": {
      "text/plain": [
       "array([[ 2875., 18450.,  5400.],\n",
       "       [10000.,  2500.,     0.]], dtype=float32)"
      ]
     },
     "execution_count": 33,
     "metadata": {},
     "output_type": "execute_result"
    }
   ],
   "source": [
    "dst = np.multiply(src1, src2.astype(np.float32))\n",
    "dst"
   ]
  },
  {
   "cell_type": "code",
   "execution_count": 40,
   "metadata": {
    "ExecuteTime": {
     "end_time": "2020-01-19T17:39:08.446251Z",
     "start_time": "2020-01-19T17:39:08.441235Z"
    }
   },
   "outputs": [
    {
     "name": "stderr",
     "output_type": "stream",
     "text": [
      "C:\\Users\\Kungs\\AppData\\Local\\Programs\\Python\\Python36\\lib\\site-packages\\ipykernel_launcher.py:2: RuntimeWarning: divide by zero encountered in true_divide\n",
      "  \n"
     ]
    },
    {
     "data": {
      "text/plain": [
       "array([[5.43478261, 1.2195122 , 0.66666667],\n",
       "       [1.        , 0.04      ,        inf]])"
      ]
     },
     "execution_count": 40,
     "metadata": {},
     "output_type": "execute_result"
    }
   ],
   "source": [
    "# 点除运算\n",
    "dst = src2 / src1\n",
    "dst # 出现inf是因为分母为0"
   ]
  },
  {
   "cell_type": "code",
   "execution_count": 41,
   "metadata": {
    "ExecuteTime": {
     "end_time": "2020-01-19T17:42:42.936511Z",
     "start_time": "2020-01-19T17:42:42.922519Z"
    }
   },
   "outputs": [
    {
     "data": {
      "text/plain": [
       "array([[20, 14],\n",
       "       [56, 41]], dtype=uint8)"
      ]
     },
     "execution_count": 41,
     "metadata": {},
     "output_type": "execute_result"
    }
   ],
   "source": [
    "# ndarray的乘法\n",
    "src3 = np.array([[1, 2, 3], [4, 5, 6]], dtype=np.uint8)\n",
    "src4 = np.array([[6, 5], [4, 3], [2, 1]], dtype=np.uint8)\n",
    "dst = np.dot(src3, src4)\n",
    "dst"
   ]
  },
  {
   "cell_type": "code",
   "execution_count": 44,
   "metadata": {
    "ExecuteTime": {
     "end_time": "2020-01-19T17:45:36.912722Z",
     "start_time": "2020-01-19T17:45:36.904745Z"
    }
   },
   "outputs": [
    {
     "data": {
      "text/plain": [
       "array([[403.5  , 148.4  ],\n",
       "       [ 54.6  ,  20.08 ],\n",
       "       [  7.39 ,   2.719]], dtype=float16)"
      ]
     },
     "execution_count": 44,
     "metadata": {},
     "output_type": "execute_result"
    }
   ],
   "source": [
    "# 指数运算\n",
    "src5 = np.array([[6, 5], [4, 3]], np.uint8)\n",
    "dst2 = np.exp(src4)\n",
    "dst2"
   ]
  },
  {
   "cell_type": "code",
   "execution_count": 46,
   "metadata": {
    "ExecuteTime": {
     "end_time": "2020-01-19T17:46:07.895552Z",
     "start_time": "2020-01-19T17:46:07.889569Z"
    }
   },
   "outputs": [
    {
     "data": {
      "text/plain": [
       "array([[1.792 , 1.609 ],\n",
       "       [1.387 , 1.099 ],\n",
       "       [0.6934, 0.    ]], dtype=float16)"
      ]
     },
     "execution_count": 46,
     "metadata": {},
     "output_type": "execute_result"
    }
   ],
   "source": [
    "# 对数计算\n",
    "dst2 = np.log(src4)\n",
    "dst2"
   ]
  },
  {
   "cell_type": "code",
   "execution_count": 47,
   "metadata": {
    "ExecuteTime": {
     "end_time": "2020-01-19T17:48:17.551362Z",
     "start_time": "2020-01-19T17:48:17.545405Z"
    }
   },
   "outputs": [
    {
     "data": {
      "text/plain": [
       "array([[113,  64],\n",
       "       [100,  16]], dtype=uint8)"
      ]
     },
     "execution_count": 47,
     "metadata": {},
     "output_type": "execute_result"
    }
   ],
   "source": [
    "# 幂指数运算\n",
    "src = np.array([[25, 40], [10, 100]], dtype=np.uint8)\n",
    "dst1 = np.power(src, 2)\n",
    "dst1"
   ]
  },
  {
   "cell_type": "code",
   "execution_count": 50,
   "metadata": {
    "ExecuteTime": {
     "end_time": "2020-01-19T17:49:28.556984Z",
     "start_time": "2020-01-19T17:49:28.550002Z"
    }
   },
   "outputs": [
    {
     "data": {
      "text/plain": [
       "(array([[  625.,  1600.],\n",
       "        [  100., 10000.]]), dtype('float64'))"
      ]
     },
     "execution_count": 50,
     "metadata": {},
     "output_type": "execute_result"
    }
   ],
   "source": [
    "# 将幂指数2改为2.0\n",
    "dst1 = np.power(src, 2.0)\n",
    "dst1, dst1.dtype"
   ]
  },
  {
   "cell_type": "markdown",
   "metadata": {
    "ExecuteTime": {
     "end_time": "2020-01-19T17:49:19.770058Z",
     "start_time": "2020-01-19T17:49:19.765073Z"
    }
   },
   "source": [
    "# 灰度图像数字化"
   ]
  },
  {
   "cell_type": "code",
   "execution_count": 57,
   "metadata": {
    "ExecuteTime": {
     "end_time": "2020-01-19T18:07:05.042798Z",
     "start_time": "2020-01-19T18:07:05.031795Z"
    }
   },
   "outputs": [
    {
     "ename": "error",
     "evalue": "OpenCV(3.4.2) C:\\projects\\opencv-python\\opencv\\modules\\highgui\\src\\window.cpp:356: error: (-215:Assertion failed) size.width>0 && size.height>0 in function 'cv::imshow'\n",
     "traceback": [
      "\u001b[1;31m---------------------------------------------------------------------------\u001b[0m",
      "\u001b[1;31merror\u001b[0m                                     Traceback (most recent call last)",
      "\u001b[1;32m<ipython-input-57-86dec32031e3>\u001b[0m in \u001b[0;36m<module>\u001b[1;34m()\u001b[0m\n\u001b[0;32m     10\u001b[0m         \u001b[0mprint\u001b[0m\u001b[1;33m(\u001b[0m\u001b[1;34m\"Usge: python imgToArray.py imageFile\"\u001b[0m\u001b[1;33m)\u001b[0m\u001b[1;33m\u001b[0m\u001b[0m\n\u001b[0;32m     11\u001b[0m     \u001b[1;31m# 显示图像\u001b[0m\u001b[1;33m\u001b[0m\u001b[1;33m\u001b[0m\u001b[0m\n\u001b[1;32m---> 12\u001b[1;33m     \u001b[0mcv2\u001b[0m\u001b[1;33m.\u001b[0m\u001b[0mimshow\u001b[0m\u001b[1;33m(\u001b[0m\u001b[1;34m\"img\"\u001b[0m\u001b[1;33m,\u001b[0m \u001b[0mimg\u001b[0m\u001b[1;33m)\u001b[0m\u001b[1;33m\u001b[0m\u001b[0m\n\u001b[0m\u001b[0;32m     13\u001b[0m     \u001b[0mcv2\u001b[0m\u001b[1;33m.\u001b[0m\u001b[0mwaitKey\u001b[0m\u001b[1;33m(\u001b[0m\u001b[1;36m0\u001b[0m\u001b[1;33m)\u001b[0m\u001b[1;33m\u001b[0m\u001b[0m\n\u001b[0;32m     14\u001b[0m     \u001b[0mcv2\u001b[0m\u001b[1;33m.\u001b[0m\u001b[0mdestroyAllWindows\u001b[0m\u001b[1;33m(\u001b[0m\u001b[1;33m)\u001b[0m\u001b[1;33m\u001b[0m\u001b[0m\n",
      "\u001b[1;31merror\u001b[0m: OpenCV(3.4.2) C:\\projects\\opencv-python\\opencv\\modules\\highgui\\src\\window.cpp:356: error: (-215:Assertion failed) size.width>0 && size.height>0 in function 'cv::imshow'\n"
     ],
     "output_type": "error"
    }
   ],
   "source": [
    "import sys\n",
    "import cv2\n",
    "import numpy as np\n",
    "\n",
    "if __name__ == \"__main__\":\n",
    "    # 输入图像矩阵，转换为array\n",
    "    if len(sys.argv) > 1:\n",
    "        img = cv2.imread(sys.argv[1], cv2.IMREAD_GRAYSCALE)\n",
    "    else:\n",
    "        print(\"Usge: python imgToArray.py imageFile\")\n",
    "    # 显示图像\n",
    "    cv2.imshow(\"img\", img)\n",
    "    cv2.waitKey(0)\n",
    "    cv2.destroyAllWindows()"
   ]
  },
  {
   "cell_type": "code",
   "execution_count": null,
   "metadata": {},
   "outputs": [],
   "source": [
    "# 将RGB彩色图像转换为三维的ndarray\n",
    "import cv2\n",
    "import numpy as np\n",
    "import sys\n",
    "\n",
    "if __name__ == \"__main__\":\n",
    "    if len(sys.argv) > 1:\n",
    "        image = cv2.imread(sys.argv[1], cv2.IMREAD_COLOR)\n",
    "    else:\n",
    "        print(\"Usge: python RGB.py imageFile\")\n",
    "    # 得到三个颜色通道\n",
    "    b = image[:, :, 0]\n",
    "    g = image[:, :, 1]\n",
    "    r = image[:, :, 2]\n",
    "    # 显示三个颜色通道\n",
    "    cv2.imshow(\"b\", b)\n",
    "    cv2.imshow(\"g\", g)\n",
    "    cv2.imshow(\"r\", r)\n",
    "    cv2.waitKey(0)\n",
    "    cv2.destroyAllWindows()"
   ]
  }
 ],
 "metadata": {
  "hide_input": false,
  "kernelspec": {
   "display_name": "Python 3",
   "language": "python",
   "name": "python3"
  },
  "language_info": {
   "codemirror_mode": {
    "name": "ipython",
    "version": 3
   },
   "file_extension": ".py",
   "mimetype": "text/x-python",
   "name": "python",
   "nbconvert_exporter": "python",
   "pygments_lexer": "ipython3",
   "version": "3.6.5"
  },
  "latex_envs": {
   "LaTeX_envs_menu_present": true,
   "autoclose": false,
   "autocomplete": true,
   "bibliofile": "biblio.bib",
   "cite_by": "apalike",
   "current_citInitial": 1.0,
   "eqLabelWithNumbers": true,
   "eqNumInitial": 1.0,
   "hotkeys": {
    "equation": "Ctrl-E",
    "itemize": "Ctrl-I"
   },
   "labels_anchors": false,
   "latex_user_defs": false,
   "report_style_numbering": false,
   "user_envs_cfg": false
  },
  "nbTranslate": {
   "displayLangs": [
    "*"
   ],
   "hotkey": "alt-t",
   "langInMainMenu": true,
   "sourceLang": "en",
   "targetLang": "fr",
   "useGoogleTranslate": true
  },
  "toc": {
   "base_numbering": 1.0,
   "nav_menu": {},
   "number_sections": true,
   "sideBar": true,
   "skip_h1_title": false,
   "title_cell": "Table of Contents",
   "title_sidebar": "Contents",
   "toc_cell": false,
   "toc_position": {},
   "toc_section_display": true,
   "toc_window_display": true
  },
  "varInspector": {
   "cols": {
    "lenName": 16.0,
    "lenType": 16.0,
    "lenVar": 40.0
   },
   "kernels_config": {
    "python": {
     "delete_cmd_postfix": "",
     "delete_cmd_prefix": "del ",
     "library": "var_list.py",
     "varRefreshCmd": "print(var_dic_list())"
    },
    "r": {
     "delete_cmd_postfix": ") ",
     "delete_cmd_prefix": "rm(",
     "library": "var_list.r",
     "varRefreshCmd": "cat(var_dic_list()) "
    }
   },
   "types_to_exclude": [
    "module",
    "function",
    "builtin_function_or_method",
    "instance",
    "_Feature"
   ],
   "window_display": false
  }
 },
 "nbformat": 4,
 "nbformat_minor": 2
}
